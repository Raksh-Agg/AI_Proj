{
 "cells": [
  {
   "cell_type": "code",
   "execution_count": 1,
   "metadata": {},
   "outputs": [],
   "source": [
    "import pandas as pd\n",
    "from sklearn.experimental import enable_iterative_imputer\n",
    "from sklearn.impute import IterativeImputer\n",
    "from sklearn.metrics import mean_squared_error\n"
   ]
  },
  {
   "cell_type": "code",
   "execution_count": 8,
   "metadata": {},
   "outputs": [],
   "source": [
    "\n",
    "# Load original.csv and imputed.csv into dataframes\n",
    "original = pd.read_csv('SmallerDataSet.csv')\n",
    "imputed = pd.read_csv('Corr_Mode.csv')\n"
   ]
  },
  {
   "cell_type": "code",
   "execution_count": 9,
   "metadata": {},
   "outputs": [],
   "source": [
    "\n",
    "# Select the columns that you want to compare\n",
    "columns = ['Diabetes_012', 'HighBP', 'HighChol', 'CholCheck', 'BMI', 'Smoker', 'Stroke', 'HeartDiseaseorAttack', 'PhysActivity', 'Fruits',\n",
    "           'Veggies', 'HvyAlcoholConsump', 'AnyHealthcare', 'NoDocbcCost', 'GenHlth', 'MentHlth', 'PhysHlth', 'DiffWalk', 'Sex', 'Age', 'Education', 'Income']\n"
   ]
  },
  {
   "cell_type": "code",
   "execution_count": 12,
   "metadata": {},
   "outputs": [
    {
     "name": "stdout",
     "output_type": "stream",
     "text": [
      "Diabetes_012 hehe  1.0\n",
      "HighBP hehe  0.9975337639459777\n",
      "HighChol hehe  0.9971814445096888\n",
      "CholCheck hehe  1.0\n",
      "BMI hehe  0.6819729888432178\n",
      "Smoker hehe  0.9965942454492073\n",
      "Stroke hehe  0.9996476805637111\n",
      "HeartDiseaseorAttack hehe  0.9990604815032296\n",
      "PhysActivity hehe  0.9981209630064591\n",
      "Fruits hehe  0.9954198473282443\n",
      "Veggies hehe  0.9978860833822666\n",
      "HvyAlcoholConsump hehe  0.9997651203758074\n",
      "AnyHealthcare hehe  0.9995302407516148\n",
      "NoDocbcCost hehe  0.9991779213153259\n",
      "GenHlth hehe  0.984380504991192\n",
      "MentHlth hehe  0.7503229594832648\n",
      "PhysHlth hehe  -0.4761009982384028\n",
      "DiffWalk hehe  0.9989430416911333\n",
      "Sex hehe  0.9968291250733999\n",
      "Age hehe  0.929301233118027\n",
      "Education hehe  0.9866118614210218\n",
      "Income hehe  0.9305930710510864\n",
      "Accuracy of imputation for Model : 89.34653133126415\n"
     ]
    }
   ],
   "source": [
    "\n",
    "# Calculate accuracy of imputation for each column separately\n",
    "sumacc = 0\n",
    "for column in columns:\n",
    "    mse = mean_squared_error(original[column], imputed[column])\n",
    "    accuracy = 1 - mse\n",
    "    sumacc = sumacc + accuracy\n",
    "    print (f'{column} hehe  {accuracy}')\n",
    "print(f\"Accuracy of imputation for Model : {(sumacc-1)*100/21}\")"
   ]
  },
  {
   "cell_type": "code",
   "execution_count": null,
   "metadata": {},
   "outputs": [],
   "source": [
    "\n",
    "cov(X, Y) = (sum(x - mean(X)) * (y - mean(Y))) * 1/(n-1)\n"
   ]
  }
 ],
 "metadata": {
  "kernelspec": {
   "display_name": "Python 3",
   "language": "python",
   "name": "python3"
  },
  "language_info": {
   "codemirror_mode": {
    "name": "ipython",
    "version": 3
   },
   "file_extension": ".py",
   "mimetype": "text/x-python",
   "name": "python",
   "nbconvert_exporter": "python",
   "pygments_lexer": "ipython3",
   "version": "3.10.6"
  },
  "orig_nbformat": 4
 },
 "nbformat": 4,
 "nbformat_minor": 2
}
