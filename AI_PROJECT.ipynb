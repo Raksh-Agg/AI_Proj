{
  "cells": [
    {
      "cell_type": "code",
      "execution_count": 44,
      "metadata": {
        "id": "ch44H7KfcEO_"
      },
      "outputs": [],
      "source": [
        "import numpy as np\n",
        "import pandas as pd\n",
        "import seaborn as sns\n",
        "import matplotlib.pyplot as plt\n",
        "from sklearn.model_selection import train_test_split\n",
        "from sklearn.ensemble import RandomForestClassifier\n",
        "import math\n",
        "from sklearn import metrics"
      ]
    },
    {
      "cell_type": "code",
      "source": [
        "from google.colab import drive\n",
        "drive.mount('/content/drive')"
      ],
      "metadata": {
        "id": "lxHrXHpqrs1U",
        "colab": {
          "base_uri": "https://localhost:8080/"
        },
        "outputId": "5ccf4f3a-b4b2-49d2-a4b9-0ef4fde039a8"
      },
      "execution_count": 45,
      "outputs": [
        {
          "output_type": "stream",
          "name": "stdout",
          "text": [
            "Drive already mounted at /content/drive; to attempt to forcibly remount, call drive.mount(\"/content/drive\", force_remount=True).\n"
          ]
        }
      ]
    },
    {
      "cell_type": "code",
      "source": [
        "df = pd.read_csv(\"/content/drive/MyDrive/Proj/Faulty.csv\")\n",
        "missing_columns = df.columns[df.isna().any()].tolist()\n",
        "\n",
        "df[missing_columns] = df[missing_columns].fillna(df[missing_columns].mean())\n",
        "df = df.round()\n",
        "df.to_csv('Mean_filled.csv', index=False)"
      ],
      "metadata": {
        "id": "S6tH5gjy1MY5"
      },
      "execution_count": 141,
      "outputs": []
    },
    {
      "cell_type": "code",
      "source": [],
      "metadata": {
        "id": "Y2AuvKND4sh6"
      },
      "execution_count": null,
      "outputs": []
    },
    {
      "cell_type": "code",
      "source": [
        "#training data\n",
        "df = pd.read_csv('/content/drive/MyDrive/Proj/Corr_Mode.csv')"
      ],
      "metadata": {
        "id": "k49IW5ARf4n5"
      },
      "execution_count": 157,
      "outputs": []
    },
    {
      "cell_type": "code",
      "source": [
        "df.info()\n"
      ],
      "metadata": {
        "colab": {
          "base_uri": "https://localhost:8080/"
        },
        "id": "hDHLY3bwzOHl",
        "outputId": "afad8730-9d07-4cd8-9fc9-f521fa45daf2"
      },
      "execution_count": 151,
      "outputs": [
        {
          "output_type": "stream",
          "name": "stdout",
          "text": [
            "<class 'pandas.core.frame.DataFrame'>\n",
            "RangeIndex: 14138 entries, 0 to 14137\n",
            "Data columns (total 22 columns):\n",
            " #   Column                Non-Null Count  Dtype  \n",
            "---  ------                --------------  -----  \n",
            " 0   Diabetes_binary       14138 non-null  float64\n",
            " 1   HighBP                14138 non-null  float64\n",
            " 2   HighChol              14138 non-null  float64\n",
            " 3   CholCheck             14138 non-null  float64\n",
            " 4   BMI                   14138 non-null  float64\n",
            " 5   Smoker                14138 non-null  float64\n",
            " 6   Stroke                14138 non-null  float64\n",
            " 7   HeartDiseaseorAttack  14138 non-null  float64\n",
            " 8   PhysActivity          14138 non-null  float64\n",
            " 9   Fruits                14138 non-null  float64\n",
            " 10  Veggies               14138 non-null  float64\n",
            " 11  HvyAlcoholConsump     14138 non-null  float64\n",
            " 12  AnyHealthcare         14138 non-null  float64\n",
            " 13  NoDocbcCost           14138 non-null  float64\n",
            " 14  GenHlth               14138 non-null  float64\n",
            " 15  MentHlth              14138 non-null  float64\n",
            " 16  PhysHlth              14138 non-null  float64\n",
            " 17  DiffWalk              14138 non-null  float64\n",
            " 18  Sex                   14138 non-null  float64\n",
            " 19  Age                   14138 non-null  float64\n",
            " 20  Education             14138 non-null  float64\n",
            " 21  Income                14138 non-null  float64\n",
            "dtypes: float64(22)\n",
            "memory usage: 2.4 MB\n"
          ]
        }
      ]
    },
    {
      "cell_type": "code",
      "source": [
        "X_train = df.drop('Diabetes_binary', axis = 1)\n",
        "y_train = df['Diabetes_binary']\n",
        "\n",
        "# print(X_train.shape)\n",
        "# print(y_train.shape)\n",
        "# print(X_test.shape)\n",
        "# print(y_test.shape)"
      ],
      "metadata": {
        "id": "JM-Enx_mi5mb"
      },
      "execution_count": 158,
      "outputs": []
    },
    {
      "cell_type": "code",
      "source": [
        "# df['Diabetes_binary'] = df['Diabetes_binary'].astype('int')\n",
        "# df['HighBP'] = df['HighBP'].astype('int')\n",
        "# df['HighChol'] = df['HighChol']\n",
        "\n",
        "# df['CholCheck'] = df['CholCheck'].astype('int')\n",
        "# df['BMI'] = df['BMI'].astype('int')\n",
        "# df['Smoker'] = df['Smoker'].astype('int')\n",
        "# df['Stroke'] = df['Stroke'].astype('int')\n",
        "# df['HeartDiseaseorAttack'] = df['HeartDiseaseorAttack'].astype('int')\n",
        "# df['PhysActivity'] = df['PhysActivity'].astype('int')\n",
        "# df['Fruits'] = df['Fruits'].astype('int')\n",
        "# df['Veggies'] = df['Veggies'].astype('int')\n",
        "\n",
        "# df['HvyAlcoholConsump'] = df['HvyAlcoholConsump'].astype('int')\n",
        "# df['AnyHealthcare'] = df['AnyHealthcare'].astype('int')\n",
        "# df['NoDocbcCost'] = df['NoDocbcCost'].astype('int')\n",
        "# df['GenHlth'] = df['GenHlth'].astype('int')\n",
        "# df['MentHlth'] = df['MentHlth'].astype('int')\n",
        "# df['PhysHlth'] = df['PhysHlth'].astype('int')\n",
        "# df['DiffWalk'] = df['DiffWalk'].astype('int')\n",
        "# df['Sex'] = df['Sex'].astype('int')\n",
        "# df['Age'] = df['Age'].astype('int')\n",
        "\n",
        "# df['Education'] = df['Education'].astype('int')\n",
        "  \n",
        "# df['Income'] = df['Income'].astype('int')\n"
      ],
      "metadata": {
        "id": "WkeoCQqeikNJ"
      },
      "execution_count": 98,
      "outputs": []
    },
    {
      "cell_type": "code",
      "source": [
        "#test data\n",
        "\n",
        "df2 = pd.read_csv('test.csv')\n",
        "\n",
        "X_test = df2.drop('Diabetes_binary', axis = 1)\n",
        "y_test = df2['Diabetes_binary']\n"
      ],
      "metadata": {
        "id": "4DUuJ-Qg3Ofp"
      },
      "execution_count": 159,
      "outputs": []
    },
    {
      "cell_type": "code",
      "source": [
        "df2.info()"
      ],
      "metadata": {
        "colab": {
          "base_uri": "https://localhost:8080/"
        },
        "id": "tH0wkBFoDKoR",
        "outputId": "503e953f-c566-4ac4-cb62-c25768df2954"
      },
      "execution_count": 149,
      "outputs": [
        {
          "output_type": "stream",
          "name": "stdout",
          "text": [
            "<class 'pandas.core.frame.DataFrame'>\n",
            "RangeIndex: 1351 entries, 0 to 1350\n",
            "Data columns (total 22 columns):\n",
            " #   Column                Non-Null Count  Dtype  \n",
            "---  ------                --------------  -----  \n",
            " 0   Diabetes_binary       1351 non-null   float64\n",
            " 1   HighBP                1351 non-null   float64\n",
            " 2   HighChol              1351 non-null   float64\n",
            " 3   CholCheck             1351 non-null   float64\n",
            " 4   BMI                   1351 non-null   float64\n",
            " 5   Smoker                1351 non-null   float64\n",
            " 6   Stroke                1351 non-null   float64\n",
            " 7   HeartDiseaseorAttack  1351 non-null   float64\n",
            " 8   PhysActivity          1351 non-null   float64\n",
            " 9   Fruits                1351 non-null   float64\n",
            " 10  Veggies               1351 non-null   float64\n",
            " 11  HvyAlcoholConsump     1351 non-null   float64\n",
            " 12  AnyHealthcare         1351 non-null   float64\n",
            " 13  NoDocbcCost           1351 non-null   float64\n",
            " 14  GenHlth               1351 non-null   float64\n",
            " 15  MentHlth              1351 non-null   float64\n",
            " 16  PhysHlth              1351 non-null   float64\n",
            " 17  DiffWalk              1351 non-null   float64\n",
            " 18  Sex                   1351 non-null   float64\n",
            " 19  Age                   1351 non-null   float64\n",
            " 20  Education             1351 non-null   float64\n",
            " 21  Income                1351 non-null   float64\n",
            "dtypes: float64(22)\n",
            "memory usage: 232.3 KB\n"
          ]
        }
      ]
    },
    {
      "cell_type": "code",
      "source": [
        "rf = RandomForestClassifier(random_state = 1, max_features = 'sqrt', n_jobs = 1, verbose = 1)\n",
        "rf.fit(X_train, y_train)\n",
        "rf.score(X_test, y_test)"
      ],
      "metadata": {
        "colab": {
          "base_uri": "https://localhost:8080/"
        },
        "id": "4hfj03w1jQlU",
        "outputId": "429039b4-80c6-4d65-f111-1a30795343c6"
      },
      "execution_count": 160,
      "outputs": [
        {
          "output_type": "stream",
          "name": "stderr",
          "text": [
            "[Parallel(n_jobs=1)]: Using backend SequentialBackend with 1 concurrent workers.\n",
            "[Parallel(n_jobs=1)]: Done 100 out of 100 | elapsed:    2.4s finished\n",
            "[Parallel(n_jobs=1)]: Using backend SequentialBackend with 1 concurrent workers.\n",
            "[Parallel(n_jobs=1)]: Done 100 out of 100 | elapsed:    0.1s finished\n"
          ]
        },
        {
          "output_type": "execute_result",
          "data": {
            "text/plain": [
              "0.7912657290895633"
            ]
          },
          "metadata": {},
          "execution_count": 160
        }
      ]
    },
    {
      "cell_type": "code",
      "source": [
        "y_pred = rf.predict(X_test)\n",
        "print(y_pred)"
      ],
      "metadata": {
        "colab": {
          "base_uri": "https://localhost:8080/"
        },
        "id": "R57BItzQkfjH",
        "outputId": "ec7283c0-f50f-4de7-ffe6-bda19e446b1b"
      },
      "execution_count": 161,
      "outputs": [
        {
          "output_type": "stream",
          "name": "stdout",
          "text": [
            "[0. 1. 0. ... 0. 0. 1.]\n"
          ]
        },
        {
          "output_type": "stream",
          "name": "stderr",
          "text": [
            "[Parallel(n_jobs=1)]: Using backend SequentialBackend with 1 concurrent workers.\n",
            "[Parallel(n_jobs=1)]: Done 100 out of 100 | elapsed:    0.1s finished\n"
          ]
        }
      ]
    },
    {
      "cell_type": "code",
      "source": [
        "mse = metrics.mean_squared_error(y_test, y_pred)\n",
        "print('Mean Squared Error CONTROL: '+ str(mse))\n",
        "rmse = math.sqrt(metrics.mean_squared_error(y_test, y_pred))\n",
        "print('Root Mean Squared Error CONTROL: '+ str(rmse))"
      ],
      "metadata": {
        "colab": {
          "base_uri": "https://localhost:8080/"
        },
        "id": "C291PBNok1qV",
        "outputId": "97d61f15-f8c8-4002-e9a2-e5f3d15b5d39"
      },
      "execution_count": 162,
      "outputs": [
        {
          "output_type": "stream",
          "name": "stdout",
          "text": [
            "Mean Squared Error CONTROL: 0.20873427091043673\n",
            "Root Mean Squared Error CONTROL: 0.45687445858839243\n"
          ]
        }
      ]
    }
  ],
  "metadata": {
    "colab": {
      "provenance": []
    },
    "kernelspec": {
      "display_name": "Python 3",
      "name": "python3"
    },
    "language_info": {
      "name": "python"
    }
  },
  "nbformat": 4,
  "nbformat_minor": 0
}