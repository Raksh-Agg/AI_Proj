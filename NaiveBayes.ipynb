{
 "cells": [
  {
   "cell_type": "code",
   "execution_count": 1,
   "metadata": {},
   "outputs": [],
   "source": [
    "import pandas as pd\n",
    "import numpy as np\n",
    "from sklearn.naive_bayes import GaussianNB"
   ]
  },
  {
   "cell_type": "code",
   "execution_count": 2,
   "metadata": {},
   "outputs": [],
   "source": [
    "\n",
    "# Load the dataset\n",
    "df = pd.read_csv(\"FaultyData.csv\")"
   ]
  },
  {
   "cell_type": "code",
   "execution_count": 3,
   "metadata": {},
   "outputs": [],
   "source": [
    "\n",
    "# Separate the columns with missing values\n",
    "missing_columns = df.columns[df.isna().any()].tolist()\n",
    "\n",
    "# Split the dataset into two parts - one with missing values and one without\n",
    "missing_df = df[df.isna().any(axis=1)]\n",
    "non_missing_df = df.dropna()\n"
   ]
  },
  {
   "cell_type": "code",
   "execution_count": 7,
   "metadata": {},
   "outputs": [
    {
     "name": "stdout",
     "output_type": "stream",
     "text": [
      "<class 'pandas.core.frame.DataFrame'>\n"
     ]
    }
   ],
   "source": [
    "\n",
    "# Train a Naive Bayes classifier on the non-missing data\n",
    "X_train = non_missing_df.drop(missing_columns, axis=1)\n",
    "y_train = non_missing_df[missing_columns]\n",
    "print(type(X_train))\n",
    "X_train.to_csv('temp.csv', index=False)"
   ]
  },
  {
   "cell_type": "code",
   "execution_count": null,
   "metadata": {},
   "outputs": [],
   "source": [
    "\n",
    "clf = GaussianNB()\n",
    "clf.fit(X_train, y_train)\n"
   ]
  },
  {
   "cell_type": "code",
   "execution_count": null,
   "metadata": {},
   "outputs": [],
   "source": [
    "\n",
    "# Use the classifier to predict the missing values\n",
    "X_test = missing_df.drop(missing_columns, axis=1)\n",
    "y_pred = clf.predict(X_test)\n",
    "\n",
    "# Replace the missing values with the predicted values\n",
    "missing_df[missing_columns] = y_pred\n",
    "imputed_df = pd.concat([missing_df, non_missing_df])\n"
   ]
  },
  {
   "cell_type": "code",
   "execution_count": null,
   "metadata": {},
   "outputs": [],
   "source": [
    "\n",
    "# Round the relevant columns\n",
    "imputed_df['Diabetes_012'] = np.round(imputed_df['Diabetes_012'])\n",
    "imputed_df['BMI'] = np.round(imputed_df['BMI'])\n",
    "imputed_df['GenHlth'] = np.round(imputed_df['GenHlth'])\n",
    "imputed_df['MentHlth'] = np.round(imputed_df['MentHlth'])\n",
    "imputed_df['PhysHlth'] = np.round(imputed_df['PhysHlth'])\n",
    "imputed_df['Age'] = np.round(imputed_df['Age'])\n",
    "imputed_df['Education'] = np.round(imputed_df['Education'])\n",
    "imputed_df['Income'] = np.round(imputed_df['Income'])\n"
   ]
  },
  {
   "cell_type": "code",
   "execution_count": null,
   "metadata": {},
   "outputs": [],
   "source": [
    "\n",
    "# Save the imputed dataset to a new CSV file\n",
    "imputed_df.to_csv('NaiveBayesImputed.csv', index=False)\n"
   ]
  }
 ],
 "metadata": {
  "kernelspec": {
   "display_name": "Python 3",
   "language": "python",
   "name": "python3"
  },
  "language_info": {
   "codemirror_mode": {
    "name": "ipython",
    "version": 3
   },
   "file_extension": ".py",
   "mimetype": "text/x-python",
   "name": "python",
   "nbconvert_exporter": "python",
   "pygments_lexer": "ipython3",
   "version": "3.10.6"
  },
  "orig_nbformat": 4
 },
 "nbformat": 4,
 "nbformat_minor": 2
}
