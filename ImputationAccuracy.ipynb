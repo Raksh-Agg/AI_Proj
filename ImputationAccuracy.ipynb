{
 "cells": [
  {
   "cell_type": "code",
   "execution_count": 24,
   "metadata": {},
   "outputs": [],
   "source": [
    "import pandas as pd\n",
    "from sklearn.experimental import enable_iterative_imputer\n",
    "from sklearn.impute import IterativeImputer\n",
    "from sklearn.metrics import mean_squared_error\n"
   ]
  },
  {
   "cell_type": "code",
   "execution_count": 25,
   "metadata": {},
   "outputs": [],
   "source": [
    "\n",
    "# Load original.csv and imputed.csv into dataframes\n",
    "original = pd.read_csv('test_data.csv')\n",
    "mode = pd.read_csv('Corr_Mode.csv')\n",
    "mean = pd.read_csv('Corr_Median.csv')\n",
    "k2 = pd.read_csv('Corr_K2.csv')\n",
    "k4 = pd.read_csv('Corr_K4.csv')\n",
    "bridge = pd.read_csv('Corr_BRidge.csv')\n"
   ]
  },
  {
   "cell_type": "code",
   "execution_count": 26,
   "metadata": {},
   "outputs": [],
   "source": [
    "\n",
    "# Select the columns that you want to compare\n",
    "columns = ['Diabetes_binary', 'HighBP', 'HighChol', 'CholCheck', 'BMI', 'Smoker', 'Stroke', 'HeartDiseaseorAttack', 'PhysActivity', 'Fruits',\n",
    "           'Veggies', 'HvyAlcoholConsump', 'AnyHealthcare', 'NoDocbcCost', 'GenHlth', 'MentHlth', 'PhysHlth', 'DiffWalk', 'Sex', 'Age', 'Education', 'Income']\n"
   ]
  },
  {
   "cell_type": "code",
   "execution_count": 27,
   "metadata": {},
   "outputs": [
    {
     "name": "stdout",
     "output_type": "stream",
     "text": [
      "Diabetes_binary hehe  100.0000\n",
      "HighBP hehe  99.8282\n",
      "HighChol hehe  99.7301\n",
      "CholCheck hehe  99.9877\n",
      "BMI hehe  99.6261\n",
      "Smoker hehe  99.7301\n",
      "Stroke hehe  99.9509\n",
      "HeartDiseaseorAttack hehe  99.7914\n",
      "PhysActivity hehe  99.6565\n",
      "Fruits hehe  99.6319\n",
      "Veggies hehe  99.7914\n",
      "HvyAlcoholConsump hehe  100.0000\n",
      "AnyHealthcare hehe  99.9877\n",
      "NoDocbcCost hehe  99.9755\n",
      "GenHlth hehe  99.7301\n",
      "MentHlth hehe  97.6093\n",
      "PhysHlth hehe  93.6216\n",
      "DiffWalk hehe  99.6933\n",
      "Sex hehe  99.6810\n",
      "Age hehe  99.6135\n",
      "Education hehe  99.8675\n",
      "Income hehe  98.1019\n",
      "Accuracy of imputation for Model : 99.3146\n"
     ]
    }
   ],
   "source": [
    "\n",
    "# Calculate accuracy of imputation for each column separately\n",
    "sumacc = 0\n",
    "for column in columns:\n",
    "    mse = mean_squared_error(original[column], mode[column])\n",
    "    mse = mse/(max(mode[column]) - min(mode[column]))\n",
    "    accuracy = 1 - mse\n",
    "    sumacc = sumacc + accuracy\n",
    "    print (f'{column} hehe  {(accuracy*100):.04f}')\n",
    "print(f\"Accuracy of imputation for Model : {((sumacc-1)*100/21):.04f}\")\n"
   ]
  },
  {
   "cell_type": "code",
   "execution_count": 28,
   "metadata": {},
   "outputs": [
    {
     "name": "stdout",
     "output_type": "stream",
     "text": [
      "Diabetes_binary hehe  100.0000\n",
      "HighBP hehe  99.8282\n",
      "HighChol hehe  99.7301\n",
      "CholCheck hehe  99.9877\n",
      "BMI hehe  99.7574\n",
      "Smoker hehe  99.7301\n",
      "Stroke hehe  99.9509\n",
      "HeartDiseaseorAttack hehe  99.7914\n",
      "PhysActivity hehe  99.6565\n",
      "Fruits hehe  99.6319\n",
      "Veggies hehe  99.7914\n",
      "HvyAlcoholConsump hehe  100.0000\n",
      "AnyHealthcare hehe  99.9877\n",
      "NoDocbcCost hehe  99.9755\n",
      "GenHlth hehe  99.7301\n",
      "MentHlth hehe  97.6093\n",
      "PhysHlth hehe  94.1504\n",
      "DiffWalk hehe  99.6933\n",
      "Sex hehe  99.6810\n",
      "Age hehe  99.6135\n",
      "Education hehe  99.9043\n",
      "Income hehe  99.3533\n",
      "Accuracy of imputation for Model : 99.4073\n"
     ]
    }
   ],
   "source": [
    "sumacc = 0\n",
    "for column in columns:\n",
    "    mse = mean_squared_error(original[column], mean[column])\n",
    "    mse = mse/(max(mean[column]) - min(mean[column]))\n",
    "    accuracy = 1 - mse\n",
    "    sumacc = sumacc + accuracy\n",
    "    print(f'{column} hehe  {(accuracy*100):.04f}')\n",
    "print(f\"Accuracy of imputation for Model : {((sumacc-1)*100/21):.04f}\")\n"
   ]
  },
  {
   "cell_type": "code",
   "execution_count": 29,
   "metadata": {},
   "outputs": [
    {
     "name": "stdout",
     "output_type": "stream",
     "text": [
      "Diabetes_binary hehe  100.0000\n",
      "HighBP hehe  99.7301\n",
      "HighChol hehe  99.4357\n",
      "CholCheck hehe  99.9632\n",
      "BMI hehe  99.6081\n",
      "Smoker hehe  99.6933\n",
      "Stroke hehe  99.9509\n",
      "HeartDiseaseorAttack hehe  99.7792\n",
      "PhysActivity hehe  99.5461\n",
      "Fruits hehe  99.4970\n",
      "Veggies hehe  99.6688\n",
      "HvyAlcoholConsump hehe  100.0000\n",
      "AnyHealthcare hehe  99.9387\n",
      "NoDocbcCost hehe  99.9755\n",
      "GenHlth hehe  99.7332\n",
      "MentHlth hehe  97.7708\n",
      "PhysHlth hehe  97.2216\n",
      "DiffWalk hehe  99.7669\n",
      "Sex hehe  99.7178\n",
      "Age hehe  99.5389\n",
      "Education hehe  99.8135\n",
      "Income hehe  99.1780\n",
      "Accuracy of imputation for Model : 99.5013\n"
     ]
    }
   ],
   "source": [
    "sumacc = 0\n",
    "for column in columns:\n",
    "    mse = mean_squared_error(original[column], k2[column])\n",
    "    mse = mse/(max(k2[column]) - min(k2[column]))\n",
    "    accuracy = 1 - mse\n",
    "    sumacc = sumacc + accuracy\n",
    "    print(f'{column} hehe  {(accuracy*100):.04f}')\n",
    "print(f\"Accuracy of imputation for Model : {((sumacc-1)*100/21):.04f}\")\n"
   ]
  },
  {
   "cell_type": "code",
   "execution_count": 30,
   "metadata": {},
   "outputs": [
    {
     "name": "stdout",
     "output_type": "stream",
     "text": [
      "Diabetes_binary hehe  100.0000\n",
      "HighBP hehe  99.7424\n",
      "HighChol hehe  99.5583\n",
      "CholCheck hehe  99.9877\n",
      "BMI hehe  99.6986\n",
      "Smoker hehe  99.6810\n",
      "Stroke hehe  99.9509\n",
      "HeartDiseaseorAttack hehe  99.8037\n",
      "PhysActivity hehe  99.6442\n",
      "Fruits hehe  99.4847\n",
      "Veggies hehe  99.7301\n",
      "HvyAlcoholConsump hehe  100.0000\n",
      "AnyHealthcare hehe  99.9755\n",
      "NoDocbcCost hehe  99.9632\n",
      "GenHlth hehe  99.8129\n",
      "MentHlth hehe  98.1642\n",
      "PhysHlth hehe  97.3488\n",
      "DiffWalk hehe  99.8037\n",
      "Sex hehe  99.7178\n",
      "Age hehe  99.6187\n",
      "Education hehe  99.8650\n",
      "Income hehe  99.3340\n",
      "Accuracy of imputation for Model : 99.5660\n"
     ]
    }
   ],
   "source": [
    "sumacc = 0\n",
    "for column in columns:\n",
    "    mse = mean_squared_error(original[column], k4[column])\n",
    "    mse = mse/(max(k4[column]) - min(k4[column]))\n",
    "    accuracy = 1 - mse\n",
    "    sumacc = sumacc + accuracy\n",
    "    print(f'{column} hehe  {(accuracy*100):.04f}')\n",
    "print(f\"Accuracy of imputation for Model : {((sumacc-1)*100/21):.04f}\")\n"
   ]
  },
  {
   "cell_type": "code",
   "execution_count": 31,
   "metadata": {},
   "outputs": [
    {
     "name": "stdout",
     "output_type": "stream",
     "text": [
      "Diabetes_binary hehe  100.0000\n",
      "HighBP hehe  99.8160\n",
      "HighChol hehe  99.7546\n",
      "CholCheck hehe  99.9877\n",
      "BMI hehe  99.7700\n",
      "Smoker hehe  99.8160\n",
      "Stroke hehe  99.9509\n",
      "HeartDiseaseorAttack hehe  99.7914\n",
      "PhysActivity hehe  99.7546\n",
      "Fruits hehe  99.7056\n",
      "Veggies hehe  99.7914\n",
      "HvyAlcoholConsump hehe  100.0000\n",
      "AnyHealthcare hehe  99.9877\n",
      "NoDocbcCost hehe  99.9755\n",
      "GenHlth hehe  99.8282\n",
      "MentHlth hehe  98.7461\n",
      "PhysHlth hehe  98.3100\n",
      "DiffWalk hehe  99.7792\n",
      "Sex hehe  99.8037\n",
      "Age hehe  99.6544\n",
      "Education hehe  99.8994\n",
      "Income hehe  99.5373\n",
      "Accuracy of imputation for Model : 99.6981\n"
     ]
    }
   ],
   "source": [
    "sumacc = 0\n",
    "for column in columns:\n",
    "    mse = mean_squared_error(original[column], bridge[column])\n",
    "    mse = mse/(max(bridge[column]) - min(bridge[column]))\n",
    "    accuracy = 1 - mse\n",
    "    sumacc = sumacc + accuracy\n",
    "    print(f'{column} hehe  {(accuracy*100):.04f}')\n",
    "print(f\"Accuracy of imputation for Model : {((sumacc-1)*100/21):.04f}\")\n"
   ]
  }
 ],
 "metadata": {
  "kernelspec": {
   "display_name": "Python 3",
   "language": "python",
   "name": "python3"
  },
  "language_info": {
   "codemirror_mode": {
    "name": "ipython",
    "version": 3
   },
   "file_extension": ".py",
   "mimetype": "text/x-python",
   "name": "python",
   "nbconvert_exporter": "python",
   "pygments_lexer": "ipython3",
   "version": "3.10.6"
  },
  "orig_nbformat": 4
 },
 "nbformat": 4,
 "nbformat_minor": 2
}
