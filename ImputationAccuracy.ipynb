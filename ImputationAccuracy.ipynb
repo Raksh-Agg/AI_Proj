{
 "cells": [
  {
   "cell_type": "code",
   "execution_count": 36,
   "metadata": {},
   "outputs": [],
   "source": [
    "import pandas as pd\n",
    "from sklearn.experimental import enable_iterative_imputer\n",
    "from sklearn.impute import IterativeImputer\n",
    "from sklearn.metrics import mean_squared_error\n"
   ]
  },
  {
   "cell_type": "code",
   "execution_count": 37,
   "metadata": {},
   "outputs": [],
   "source": [
    "\n",
    "# Load original.csv and imputed.csv into dataframes\n",
    "original = pd.read_csv('SmallerDataSet.csv')\n",
    "mode = pd.read_csv('Corr_Mode.csv')\n",
    "mean = pd.read_csv('Corr_Mean.csv')\n",
    "k2 = pd.read_csv('Corr_K2.csv')\n",
    "k4 = pd.read_csv('Corr_K4.csv')\n",
    "bridge = pd.read_csv('Corr_BRidge.csv')\n"
   ]
  },
  {
   "cell_type": "code",
   "execution_count": 38,
   "metadata": {},
   "outputs": [],
   "source": [
    "\n",
    "# Select the columns that you want to compare\n",
    "columns = ['Diabetes_012', 'HighBP', 'HighChol', 'CholCheck', 'BMI', 'Smoker', 'Stroke', 'HeartDiseaseorAttack', 'PhysActivity', 'Fruits',\n",
    "           'Veggies', 'HvyAlcoholConsump', 'AnyHealthcare', 'NoDocbcCost', 'GenHlth', 'MentHlth', 'PhysHlth', 'DiffWalk', 'Sex', 'Age', 'Education', 'Income']\n"
   ]
  },
  {
   "cell_type": "code",
   "execution_count": 39,
   "metadata": {},
   "outputs": [
    {
     "name": "stdout",
     "output_type": "stream",
     "text": [
      "Diabetes_012 hehe  100.0000\n",
      "HighBP hehe  99.7534\n",
      "HighChol hehe  99.7181\n",
      "CholCheck hehe  100.0000\n",
      "BMI hehe  99.4700\n",
      "Smoker hehe  99.6594\n",
      "Stroke hehe  99.9648\n",
      "HeartDiseaseorAttack hehe  99.9060\n",
      "PhysActivity hehe  99.8121\n",
      "Fruits hehe  99.5420\n",
      "Veggies hehe  99.7886\n",
      "HvyAlcoholConsump hehe  99.9765\n",
      "AnyHealthcare hehe  99.9530\n",
      "NoDocbcCost hehe  99.9178\n",
      "GenHlth hehe  99.6095\n",
      "MentHlth hehe  99.1677\n",
      "PhysHlth hehe  95.0797\n",
      "DiffWalk hehe  99.8943\n",
      "Sex hehe  99.6829\n",
      "Age hehe  99.4108\n",
      "Education hehe  99.7322\n",
      "Income hehe  99.0085\n",
      "Accuracy of imputation for Model : 99.4784\n"
     ]
    }
   ],
   "source": [
    "\n",
    "# Calculate accuracy of imputation for each column separately\n",
    "sumacc = 0\n",
    "for column in columns:\n",
    "    mse = mean_squared_error(original[column], mode[column])\n",
    "    mse = mse/(max(mode[column]) - min(mode[column]))\n",
    "    accuracy = 1 - mse\n",
    "    sumacc = sumacc + accuracy\n",
    "    print (f'{column} hehe  {(accuracy*100):.04f}')\n",
    "print(f\"Accuracy of imputation for Model : {((sumacc-1)*100/21):.04f}\")\n"
   ]
  },
  {
   "cell_type": "code",
   "execution_count": 40,
   "metadata": {},
   "outputs": [
    {
     "name": "stdout",
     "output_type": "stream",
     "text": [
      "Diabetes_012 hehe  100.0000\n",
      "HighBP hehe  99.7534\n",
      "HighChol hehe  99.7181\n",
      "CholCheck hehe  100.0000\n",
      "BMI hehe  99.4700\n",
      "Smoker hehe  99.6594\n",
      "Stroke hehe  99.9648\n",
      "HeartDiseaseorAttack hehe  99.9060\n",
      "PhysActivity hehe  99.8121\n",
      "Fruits hehe  99.5420\n",
      "Veggies hehe  99.7886\n",
      "HvyAlcoholConsump hehe  99.9765\n",
      "AnyHealthcare hehe  99.9530\n",
      "NoDocbcCost hehe  99.9178\n",
      "GenHlth hehe  99.7504\n",
      "MentHlth hehe  99.1677\n",
      "PhysHlth hehe  95.0797\n",
      "DiffWalk hehe  99.8943\n",
      "Sex hehe  99.6829\n",
      "Age hehe  99.5068\n",
      "Education hehe  99.8614\n",
      "Income hehe  99.3843\n",
      "Accuracy of imputation for Model : 99.5138\n"
     ]
    }
   ],
   "source": [
    "sumacc = 0\n",
    "for column in columns:\n",
    "    mse = mean_squared_error(original[column], mean[column])\n",
    "    mse = mse/(max(mean[column]) - min(mean[column]))\n",
    "    accuracy = 1 - mse\n",
    "    sumacc = sumacc + accuracy\n",
    "    print(f'{column} hehe  {(accuracy*100):.04f}')\n",
    "print(f\"Accuracy of imputation for Model : {((sumacc-1)*100/21):.04f}\")\n"
   ]
  },
  {
   "cell_type": "code",
   "execution_count": 41,
   "metadata": {},
   "outputs": [
    {
     "name": "stdout",
     "output_type": "stream",
     "text": [
      "Diabetes_012 hehe  100.0000\n",
      "HighBP hehe  99.8121\n",
      "HighChol hehe  99.7651\n",
      "CholCheck hehe  99.9413\n",
      "BMI hehe  99.5269\n",
      "Smoker hehe  99.6594\n",
      "Stroke hehe  99.9648\n",
      "HeartDiseaseorAttack hehe  99.9413\n",
      "PhysActivity hehe  99.6829\n",
      "Fruits hehe  99.6242\n",
      "Veggies hehe  99.6712\n",
      "HvyAlcoholConsump hehe  99.9765\n",
      "AnyHealthcare hehe  99.9060\n",
      "NoDocbcCost hehe  99.9295\n",
      "GenHlth hehe  99.8121\n",
      "MentHlth hehe  98.9622\n",
      "PhysHlth hehe  96.7230\n",
      "DiffWalk hehe  99.8708\n",
      "Sex hehe  99.6829\n",
      "Age hehe  99.3051\n",
      "Education hehe  99.8074\n",
      "Income hehe  99.3071\n",
      "Accuracy of imputation for Model : 99.5653\n"
     ]
    }
   ],
   "source": [
    "sumacc = 0\n",
    "for column in columns:\n",
    "    mse = mean_squared_error(original[column], k2[column])\n",
    "    mse = mse/(max(k2[column]) - min(k2[column]))\n",
    "    accuracy = 1 - mse\n",
    "    sumacc = sumacc + accuracy\n",
    "    print(f'{column} hehe  {(accuracy*100):.04f}')\n",
    "print(f\"Accuracy of imputation for Model : {((sumacc-1)*100/21):.04f}\")\n"
   ]
  },
  {
   "cell_type": "code",
   "execution_count": 42,
   "metadata": {},
   "outputs": [
    {
     "name": "stdout",
     "output_type": "stream",
     "text": [
      "Diabetes_012 hehe  100.0000\n",
      "HighBP hehe  99.8473\n",
      "HighChol hehe  99.7534\n",
      "CholCheck hehe  100.0000\n",
      "BMI hehe  99.6661\n",
      "Smoker hehe  99.6829\n",
      "Stroke hehe  99.9648\n",
      "HeartDiseaseorAttack hehe  99.9413\n",
      "PhysActivity hehe  99.7534\n",
      "Fruits hehe  99.6477\n",
      "Veggies hehe  99.7181\n",
      "HvyAlcoholConsump hehe  99.9648\n",
      "AnyHealthcare hehe  99.9295\n",
      "NoDocbcCost hehe  99.9178\n",
      "GenHlth hehe  99.8326\n",
      "MentHlth hehe  99.3780\n",
      "PhysHlth hehe  97.0906\n",
      "DiffWalk hehe  99.8943\n",
      "Sex hehe  99.6594\n",
      "Age hehe  99.4118\n",
      "Education hehe  99.8450\n",
      "Income hehe  99.4816\n",
      "Accuracy of imputation for Model : 99.6372\n"
     ]
    }
   ],
   "source": [
    "sumacc = 0\n",
    "for column in columns:\n",
    "    mse = mean_squared_error(original[column], k4[column])\n",
    "    mse = mse/(max(k4[column]) - min(k4[column]))\n",
    "    accuracy = 1 - mse\n",
    "    sumacc = sumacc + accuracy\n",
    "    print(f'{column} hehe  {(accuracy*100):.04f}')\n",
    "print(f\"Accuracy of imputation for Model : {((sumacc-1)*100/21):.04f}\")\n"
   ]
  },
  {
   "cell_type": "code",
   "execution_count": 43,
   "metadata": {},
   "outputs": [
    {
     "name": "stdout",
     "output_type": "stream",
     "text": [
      "Diabetes_012 hehe  100.0000\n",
      "HighBP hehe  99.8943\n",
      "HighChol hehe  99.8121\n",
      "CholCheck hehe  100.0000\n",
      "BMI hehe  99.5815\n",
      "Smoker hehe  99.7886\n",
      "Stroke hehe  99.9648\n",
      "HeartDiseaseorAttack hehe  99.9060\n",
      "PhysActivity hehe  99.7886\n",
      "Fruits hehe  99.6359\n",
      "Veggies hehe  99.7886\n",
      "HvyAlcoholConsump hehe  99.9765\n",
      "AnyHealthcare hehe  99.9530\n",
      "NoDocbcCost hehe  99.9295\n",
      "GenHlth hehe  99.8620\n",
      "MentHlth hehe  99.4855\n",
      "PhysHlth hehe  98.1544\n",
      "DiffWalk hehe  99.9295\n",
      "Sex hehe  99.8004\n",
      "Age hehe  99.6330\n",
      "Education hehe  99.9014\n",
      "Income hehe  99.7433\n",
      "Accuracy of imputation for Model : 99.7395\n"
     ]
    }
   ],
   "source": [
    "sumacc = 0\n",
    "for column in columns:\n",
    "    mse = mean_squared_error(original[column], bridge[column])\n",
    "    mse = mse/(max(bridge[column]) - min(bridge[column]))\n",
    "    accuracy = 1 - mse\n",
    "    sumacc = sumacc + accuracy\n",
    "    print(f'{column} hehe  {(accuracy*100):.04f}')\n",
    "print(f\"Accuracy of imputation for Model : {((sumacc-1)*100/21):.04f}\")\n"
   ]
  }
 ],
 "metadata": {
  "kernelspec": {
   "display_name": "Python 3",
   "language": "python",
   "name": "python3"
  },
  "language_info": {
   "codemirror_mode": {
    "name": "ipython",
    "version": 3
   },
   "file_extension": ".py",
   "mimetype": "text/x-python",
   "name": "python",
   "nbconvert_exporter": "python",
   "pygments_lexer": "ipython3",
   "version": "3.10.6"
  },
  "orig_nbformat": 4
 },
 "nbformat": 4,
 "nbformat_minor": 2
}
