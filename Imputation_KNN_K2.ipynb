{
 "cells": [
  {
   "cell_type": "code",
   "execution_count": 1,
   "metadata": {},
   "outputs": [],
   "source": [
    "import pandas as pd\n",
    "import numpy as np\n",
    "from sklearn.impute import KNNImputer"
   ]
  },
  {
   "cell_type": "code",
   "execution_count": 2,
   "metadata": {},
   "outputs": [],
   "source": [
    "df = pd.read_csv(\"FaultyData.csv\")\n",
    "missing_columns = df.columns[df.isna().any()].tolist()\n",
    "imputer = KNNImputer(n_neighbors=2)"
   ]
  },
  {
   "cell_type": "code",
   "execution_count": 5,
   "metadata": {},
   "outputs": [],
   "source": [
    "df[missing_columns] = imputer.fit_transform(df[missing_columns])\n",
    "new_df = pd.DataFrame()\n",
    "new_df = df"
   ]
  },
  {
   "cell_type": "code",
   "execution_count": 6,
   "metadata": {},
   "outputs": [],
   "source": [
    "new_df['Diabetes_012'] = np.round(new_df['Diabetes_012'])\n",
    "new_df['HighBP'] = new_df['HighBP'].apply(lambda x: 1.0 if x > 0.5 else 0.0)\n",
    "new_df['HighChol'] = new_df['HighChol'].apply(\n",
    "    lambda x: 1.0 if x > 0.5 else 0.0)\n",
    "new_df['CholCheck'] = new_df['CholCheck'].apply(\n",
    "    lambda x: 1.0 if x > 0.5 else 0.0)\n",
    "new_df['BMI'] = np.round(new_df['BMI'])\n",
    "new_df['Smoker'] = new_df['Smoker'].apply(lambda x: 1.0 if x > 0.5 else 0.0)\n",
    "new_df['Stroke'] = new_df['Stroke'].apply(lambda x: 1.0 if x > 0.5 else 0.0)\n",
    "new_df['HeartDiseaseorAttack'] = new_df['HeartDiseaseorAttack'].apply(\n",
    "    lambda x: 1.0 if x > 0.5 else 0.0)\n",
    "new_df['PhysActivity'] = new_df['PhysActivity'].apply(\n",
    "    lambda x: 1.0 if x > 0.5 else 0.0)\n",
    "new_df['Fruits'] = new_df['Fruits'].apply(lambda x: 1.0 if x > 0.5 else 0.0)\n",
    "new_df['Veggies'] = new_df['Veggies'].apply(lambda x: 1.0 if x > 0.5 else 0.0)\n",
    "new_df['HvyAlcoholConsump'] = new_df['HvyAlcoholConsump'].apply(\n",
    "    lambda x: 1.0 if x > 0.5 else 0.0)\n",
    "new_df['AnyHealthcare'] = new_df['AnyHealthcare'].apply(\n",
    "    lambda x: 1.0 if x > 0.5 else 0.0)\n",
    "new_df['NoDocbcCost'] = new_df['NoDocbcCost'].apply(\n",
    "    lambda x: 1.0 if x > 0.5 else 0.0)\n",
    "new_df['GenHlth'] = np.round(new_df['GenHlth'])\n",
    "new_df['MentHlth'] = np.round(new_df['MentHlth'])\n",
    "new_df['PhysHlth'] = np.round(new_df['PhysHlth'])\n",
    "new_df['DiffWalk'] = new_df['DiffWalk'].apply(\n",
    "    lambda x: 1.0 if x > 0.5 else 0.0)\n",
    "new_df['Sex'] = new_df['Sex'].apply(lambda x: 1.0 if x > 0.5 else 0.0)\n",
    "new_df['Age'] = np.round(new_df['Age'])\n",
    "new_df['Education'] = np.round(new_df['Education'])\n",
    "new_df['Income'] = np.round(new_df['Income'])"
   ]
  },
  {
   "cell_type": "code",
   "execution_count": null,
   "metadata": {},
   "outputs": [],
   "source": [
    "# df.to_csv('KNNCorrected_2.csv', index=False)\n",
    "new_df.to_csv('KNNCorrected_K2.csv', index=False)"
   ]
  }
 ],
 "metadata": {
  "kernelspec": {
   "display_name": "Python 3",
   "language": "python",
   "name": "python3"
  },
  "language_info": {
   "codemirror_mode": {
    "name": "ipython",
    "version": 3
   },
   "file_extension": ".py",
   "mimetype": "text/x-python",
   "name": "python",
   "nbconvert_exporter": "python",
   "pygments_lexer": "ipython3",
   "version": "3.10.6"
  },
  "orig_nbformat": 4
 },
 "nbformat": 4,
 "nbformat_minor": 2
}
